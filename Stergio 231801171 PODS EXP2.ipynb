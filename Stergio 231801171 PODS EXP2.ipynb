{
 "cells": [
  {
   "cell_type": "code",
   "execution_count": 1,
   "id": "b96bbf0c",
   "metadata": {},
   "outputs": [],
   "source": [
    "import pandas as pd\n",
    "import seaborn as sns\n",
    "import matplotlib.pyplot as plt\n",
    "from sklearn.impute import SimpleImputer\n",
    "from sklearn.model_selection import train_test_split"
   ]
  },
  {
   "cell_type": "code",
   "execution_count": 3,
   "id": "68ea9ef9",
   "metadata": {},
   "outputs": [],
   "source": [
    "df=pd.read_csv('Titanic-Dataset.csv')"
   ]
  },
  {
   "cell_type": "code",
   "execution_count": 6,
   "id": "a2cddf60",
   "metadata": {},
   "outputs": [
    {
     "name": "stdout",
     "output_type": "stream",
     "text": [
      "<class 'pandas.core.frame.DataFrame'>\n",
      "RangeIndex: 891 entries, 0 to 890\n",
      "Data columns (total 12 columns):\n",
      " #   Column       Non-Null Count  Dtype  \n",
      "---  ------       --------------  -----  \n",
      " 0   PassengerId  891 non-null    int64  \n",
      " 1   Survived     891 non-null    int64  \n",
      " 2   Pclass       891 non-null    int64  \n",
      " 3   Name         891 non-null    object \n",
      " 4   Sex          891 non-null    object \n",
      " 5   Age          714 non-null    float64\n",
      " 6   SibSp        891 non-null    int64  \n",
      " 7   Parch        891 non-null    int64  \n",
      " 8   Ticket       891 non-null    object \n",
      " 9   Fare         891 non-null    float64\n",
      " 10  Cabin        204 non-null    object \n",
      " 11  Embarked     889 non-null    object \n",
      "dtypes: float64(2), int64(5), object(5)\n",
      "memory usage: 83.7+ KB\n",
      "None\n",
      "   PassengerId  Survived  Pclass  \\\n",
      "0            1         0       3   \n",
      "1            2         1       1   \n",
      "2            3         1       3   \n",
      "3            4         1       1   \n",
      "4            5         0       3   \n",
      "\n",
      "                                                Name     Sex   Age  SibSp  \\\n",
      "0                            Braund, Mr. Owen Harris    male  22.0      1   \n",
      "1  Cumings, Mrs. John Bradley (Florence Briggs Th...  female  38.0      1   \n",
      "2                             Heikkinen, Miss. Laina  female  26.0      0   \n",
      "3       Futrelle, Mrs. Jacques Heath (Lily May Peel)  female  35.0      1   \n",
      "4                           Allen, Mr. William Henry    male  35.0      0   \n",
      "\n",
      "   Parch            Ticket     Fare Cabin Embarked  \n",
      "0      0         A/5 21171   7.2500   NaN        S  \n",
      "1      0          PC 17599  71.2833   C85        C  \n",
      "2      0  STON/O2. 3101282   7.9250   NaN        S  \n",
      "3      0            113803  53.1000  C123        S  \n",
      "4      0            373450   8.0500   NaN        S  \n",
      "       PassengerId    Survived      Pclass         Age       SibSp  \\\n",
      "count   891.000000  891.000000  891.000000  714.000000  891.000000   \n",
      "mean    446.000000    0.383838    2.308642   29.699118    0.523008   \n",
      "std     257.353842    0.486592    0.836071   14.526497    1.102743   \n",
      "min       1.000000    0.000000    1.000000    0.420000    0.000000   \n",
      "25%     223.500000    0.000000    2.000000   20.125000    0.000000   \n",
      "50%     446.000000    0.000000    3.000000   28.000000    0.000000   \n",
      "75%     668.500000    1.000000    3.000000   38.000000    1.000000   \n",
      "max     891.000000    1.000000    3.000000   80.000000    8.000000   \n",
      "\n",
      "            Parch        Fare  \n",
      "count  891.000000  891.000000  \n",
      "mean     0.381594   32.204208  \n",
      "std      0.806057   49.693429  \n",
      "min      0.000000    0.000000  \n",
      "25%      0.000000    7.910400  \n",
      "50%      0.000000   14.454200  \n",
      "75%      0.000000   31.000000  \n",
      "max      6.000000  512.329200  \n"
     ]
    }
   ],
   "source": [
    "print(df.info())\n",
    "print(df.head())\n",
    "print(df.describe())"
   ]
  },
  {
   "cell_type": "code",
   "execution_count": 8,
   "id": "cb9debf8",
   "metadata": {},
   "outputs": [
    {
     "name": "stdout",
     "output_type": "stream",
     "text": [
      "0      22.000000\n",
      "1      38.000000\n",
      "2      26.000000\n",
      "3      35.000000\n",
      "4      35.000000\n",
      "         ...    \n",
      "886    27.000000\n",
      "887    19.000000\n",
      "888    29.699118\n",
      "889    26.000000\n",
      "890    32.000000\n",
      "Name: Age, Length: 891, dtype: float64\n"
     ]
    }
   ],
   "source": [
    "age_imputer=SimpleImputer(strategy='mean')\n",
    "df['Age']=age_imputer.fit_transform(df[['Age']])\n",
    "print(df['Age'])"
   ]
  },
  {
   "cell_type": "code",
   "execution_count": 9,
   "id": "9f2b248f",
   "metadata": {},
   "outputs": [
    {
     "name": "stdout",
     "output_type": "stream",
     "text": [
      "0      Unknown\n",
      "1          C85\n",
      "2      Unknown\n",
      "3         C123\n",
      "4      Unknown\n",
      "        ...   \n",
      "886    Unknown\n",
      "887        B42\n",
      "888    Unknown\n",
      "889       C148\n",
      "890    Unknown\n",
      "Name: Cabin, Length: 891, dtype: object\n"
     ]
    }
   ],
   "source": [
    "df['Cabin']=df['Cabin'].fillna('Unknown')\n",
    "print(df['Cabin'])"
   ]
  },
  {
   "cell_type": "code",
   "execution_count": 10,
   "id": "6eb90f10",
   "metadata": {},
   "outputs": [
    {
     "name": "stdout",
     "output_type": "stream",
     "text": [
      "0      S\n",
      "1      C\n",
      "2      S\n",
      "3      S\n",
      "4      S\n",
      "      ..\n",
      "886    S\n",
      "887    S\n",
      "888    S\n",
      "889    C\n",
      "890    Q\n",
      "Name: Embarked, Length: 891, dtype: object\n"
     ]
    }
   ],
   "source": [
    "df['Embarked']=df['Embarked'].fillna(df['Embarked'].mode())\n",
    "print(df['Embarked'])"
   ]
  },
  {
   "cell_type": "code",
   "execution_count": 12,
   "id": "03c38233",
   "metadata": {},
   "outputs": [
    {
     "data": {
      "image/png": "[encoded data removed]",
      "text/plain": [
       "<Figure size 432x288 with 1 Axes>"
      ]
     },
     "metadata": {
      "needs_background": "light"
     },
     "output_type": "display_data"
    }
   ],
   "source": [
    "sns.countplot(x='Pclass',data=df)\n",
    "plt.title('Passenger Class Distribution')\n",
    "plt.xlabel('Passenger Class')\n",
    "plt.ylabel('Count')\n",
    "plt.show()"
   ]
  },
  {
   "cell_type": "code",
   "execution_count": 13,
   "id": "20abba99",
   "metadata": {},
   "outputs": [
    {
     "name": "stdout",
     "output_type": "stream",
     "text": [
      "Female survived:\n",
      " 1      Cumings, Mrs. John Bradley (Florence Briggs Th...\n",
      "2                                 Heikkinen, Miss. Laina\n",
      "3           Futrelle, Mrs. Jacques Heath (Lily May Peel)\n",
      "8      Johnson, Mrs. Oscar W (Elisabeth Vilhelmina Berg)\n",
      "9                    Nasser, Mrs. Nicholas (Adele Achem)\n",
      "                             ...                        \n",
      "874                Abelson, Mrs. Samuel (Hannah Wizosky)\n",
      "875                     Najib, Miss. Adele Kiamie \"Jane\"\n",
      "879        Potter, Mrs. Thomas Jr (Lily Alexenia Wilson)\n",
      "880         Shelley, Mrs. William (Imanita Parrish Hall)\n",
      "887                         Graham, Miss. Margaret Edith\n",
      "Name: Name, Length: 233, dtype: object\n"
     ]
    }
   ],
   "source": [
    "female_survivors=df[(df['Sex']=='female')&(df['Survived']==1)]\n",
    "print(\"Female survived:\\n\",female_survivors['Name'])"
   ]
  },
  {
   "cell_type": "code",
   "execution_count": 16,
   "id": "83b3b054",
   "metadata": {},
   "outputs": [
    {
     "name": "stdout",
     "output_type": "stream",
     "text": [
      "\n",
      "Passengers in 3rd class and under 18:\n",
      "                                         Name   Age\n",
      "7             Palsson, Master. Gosta Leonard   2.0\n",
      "10           Sandstrom, Miss. Marguerite Rut   4.0\n",
      "14      Vestrom, Miss. Hulda Amanda Adolfina  14.0\n",
      "16                      Rice, Master. Eugene   2.0\n",
      "22               McGowan, Miss. Anna \"Annie\"  15.0\n",
      "..                                       ...   ...\n",
      "844                      Culumovic, Mr. Jeso  17.0\n",
      "850  Andersson, Master. Sigvard Harald Elias   4.0\n",
      "852                  Boulos, Miss. Nourelain   9.0\n",
      "869          Johnson, Master. Harold Theodor   4.0\n",
      "875         Najib, Miss. Adele Kiamie \"Jane\"  15.0\n",
      "\n",
      "[78 rows x 2 columns]\n"
     ]
    }
   ],
   "source": [
    "third_class_under18 = df[(df['Pclass'] == 3) & (df['Age'] < 18)]\n",
    "print(\"\\nPassengers in 3rd class and under 18:\\n\", third_class_under18[['Name', 'Age']])"
   ]
  },
  {
   "cell_type": "code",
   "execution_count": 17,
   "id": "cdd7b04b",
   "metadata": {},
   "outputs": [
    {
     "name": "stdout",
     "output_type": "stream",
     "text": [
      "\n",
      "Passengers in Class 1 and older than 40:\n",
      "                                                   Name   Age\n",
      "6                              McCarthy, Mr. Timothy J  54.0\n",
      "11                            Bonnell, Miss. Elizabeth  58.0\n",
      "35                      Holverson, Mr. Alexander Oskar  42.0\n",
      "52            Harper, Mrs. Henry Sleeper (Myna Haxtun)  49.0\n",
      "54                      Ostby, Mr. Engelhart Cornelius  65.0\n",
      "..                                                 ...   ...\n",
      "856         Wick, Mrs. George Dennick (Mary Hitchcock)  45.0\n",
      "857                             Daly, Mr. Peter Denis   51.0\n",
      "862  Swift, Mrs. Frederick Joel (Margaret Welles Ba...  48.0\n",
      "871   Beckwith, Mrs. Richard Leonard (Sallie Monypeny)  47.0\n",
      "879      Potter, Mrs. Thomas Jr (Lily Alexenia Wilson)  56.0\n",
      "\n",
      "[76 rows x 2 columns]\n"
     ]
    }
   ],
   "source": [
    "class1_above40 = df[(df['Pclass'] == 1) & (df['Age'] > 40)]\n",
    "print(\"\\nPassengers in Class 1 and older than 40:\\n\", class1_above40[['Name', 'Age']])"
   ]
  },
  {
   "cell_type": "code",
   "execution_count": 18,
   "id": "2b0da604",
   "metadata": {},
   "outputs": [
    {
     "name": "stdout",
     "output_type": "stream",
     "text": [
      "\n",
      "Survived passengers in Class 1 and older than 40:\n",
      "                                                   Name   Age\n",
      "11                            Bonnell, Miss. Elizabeth  58.0\n",
      "52            Harper, Mrs. Henry Sleeper (Myna Haxtun)  49.0\n",
      "187      Romaine, Mr. Charles Hallace (\"Mr C Rolmane\")  45.0\n",
      "194          Brown, Mrs. James Joseph (Margaret Tobin)  44.0\n",
      "195                               Lurette, Miss. Elise  58.0\n",
      "268      Graham, Mrs. William Thompson (Edith Junkins)  58.0\n",
      "275                  Andrews, Miss. Kornelia Theodosia  63.0\n",
      "299    Baxter, Mrs. James (Helene DeLaudeniere Chaput)  50.0\n",
      "337                    Burns, Miss. Elizabeth Margaret  41.0\n",
      "366   Warren, Mrs. Frank Manley (Anna Sophia Atkinson)  60.0\n",
      "380                              Bidois, Miss. Rosalie  42.0\n",
      "449                     Peuchen, Major. Arthur Godfrey  52.0\n",
      "453                           Goldenberg, Mr. Samuel L  49.0\n",
      "460                                Anderson, Mr. Harry  48.0\n",
      "496                     Eustis, Miss. Elizabeth Mussey  54.0\n",
      "513     Rothschild, Mrs. Martin (Elizabeth L. Barrett)  54.0\n",
      "523    Hippach, Mrs. Louis Albert (Ida Sophia Fischer)  44.0\n",
      "556  Duff Gordon, Lady. (Lucille Christiana Sutherl...  48.0\n",
      "571      Appleton, Mrs. Edward Dale (Charlotte Lamson)  53.0\n",
      "587                   Frolicher-Stehli, Mr. Maxmillian  60.0\n",
      "591    Stephenson, Mrs. Walter Bertram (Martha Eustis)  52.0\n",
      "599       Duff Gordon, Sir. Cosmo Edmund (\"Mr Morgan\")  49.0\n",
      "621                       Kimball, Mr. Edwin Nelson Jr  42.0\n",
      "630               Barkworth, Mr. Algernon Henry Wilson  80.0\n",
      "645                          Harper, Mr. Henry Sleeper  48.0\n",
      "647                Simonius-Blumer, Col. Oberst Alfons  56.0\n",
      "660                      Frauenthal, Dr. Henry William  50.0\n",
      "707                  Calderhead, Mr. Edward Pennington  42.0\n",
      "712                           Taylor, Mr. Elmer Zebley  48.0\n",
      "765               Hogeboom, Mrs. John C (Anna Andrews)  51.0\n",
      "779  Robert, Mrs. Edward Scott (Elisabeth Walton Mc...  43.0\n",
      "796                        Leader, Dr. Alice (Farnham)  49.0\n",
      "820  Hays, Mrs. Charles Melville (Clara Jennings Gr...  52.0\n",
      "829          Stone, Mrs. George Nelson (Martha Evelyn)  62.0\n",
      "856         Wick, Mrs. George Dennick (Mary Hitchcock)  45.0\n",
      "857                             Daly, Mr. Peter Denis   51.0\n",
      "862  Swift, Mrs. Frederick Joel (Margaret Welles Ba...  48.0\n",
      "871   Beckwith, Mrs. Richard Leonard (Sallie Monypeny)  47.0\n",
      "879      Potter, Mrs. Thomas Jr (Lily Alexenia Wilson)  56.0\n"
     ]
    }
   ],
   "source": [
    "survived_class1_above40 = class1_above40[class1_above40['Survived'] == 1]\n",
    "print(\"\\nSurvived passengers in Class 1 and older than 40:\\n\", survived_class1_above40[['Name', 'Age']])"
   ]
  },
  {
   "cell_type": "code",
   "execution_count": 19,
   "id": "766edda7",
   "metadata": {},
   "outputs": [
    {
     "name": "stdout",
     "output_type": "stream",
     "text": [
      "\n",
      "Male passengers who paid fare > 100:\n",
      "                                            Name      Fare\n",
      "27               Fortune, Mr. Charles Alexander  263.0000\n",
      "118                    Baxter, Mr. Quigg Edmond  247.5208\n",
      "305              Allison, Master. Hudson Trevor  151.5500\n",
      "332                   Graham, Mr. George Edward  153.4625\n",
      "373                         Ringhini, Mr. Sante  135.6333\n",
      "377                   Widener, Mr. Harry Elkins  211.5000\n",
      "390                  Carter, Mr. William Ernest  120.0000\n",
      "438                           Fortune, Mr. Mark  263.0000\n",
      "505  Penasco y Castellana, Mr. Victor de Satode  108.9000\n",
      "527                          Farthing, Mr. John  221.7792\n",
      "544                  Douglas, Mr. Walter Donald  106.4250\n",
      "550                 Thayer, Mr. John Borland Jr  110.8833\n",
      "557                         Robbins, Mr. Victor  227.5250\n",
      "659                  Newell, Mr. Arthur Webster  113.2750\n",
      "660               Frauenthal, Dr. Henry William  133.6500\n",
      "679          Cardeza, Mr. Thomas Drake Martinez  512.3292\n",
      "698                    Thayer, Mr. John Borland  110.8833\n",
      "737                      Lesurer, Mr. Gustave J  512.3292\n",
      "802         Carter, Master. William Thornton II  120.0000\n"
     ]
    }
   ],
   "source": [
    "high_fare_males = df[(df['Sex'] == 'male') & (df['Fare'] > 100)]\n",
    "print(\"\\nMale passengers who paid fare > 100:\\n\", high_fare_males[['Name', 'Fare']])"
   ]
  },
  {
   "cell_type": "code",
   "execution_count": 29,
   "id": "1b4c8651",
   "metadata": {},
   "outputs": [
    {
     "name": "stdout",
     "output_type": "stream",
     "text": [
      "                                                  Name Embarked  Pclass\n",
      "9                  Nasser, Mrs. Nicholas (Adele Achem)        C       2\n",
      "43            Laroche, Miss. Simonne Marie Anne Andree        C       2\n",
      "122                               Nasser, Mr. Nicholas        C       2\n",
      "135                                 Richard, Mr. Emile        C       2\n",
      "181                                   Pernot, Mr. Rene        C       2\n",
      "292                             Levy, Mr. Rene Jacques        C       2\n",
      "308                                Abelson, Mr. Samuel        C       2\n",
      "361                          del Carlo, Mr. Sebastiano        C       2\n",
      "389                              Lehmann, Miss. Bertha        C       2\n",
      "473       Jerwan, Mrs. Amin S (Marie Marthe Thuillard)        C       2\n",
      "547                         Padro y Manent, Mr. Julian        C       2\n",
      "608  Laroche, Mrs. Joseph (Juliette Marie Louise La...        C       2\n",
      "685             Laroche, Mr. Joseph Philippe Lemercier        C       2\n",
      "817                                 Mallet, Mr. Albert        C       2\n",
      "827                              Mallet, Master. Andre        C       2\n",
      "866                       Duran y More, Miss. Asuncion        C       2\n",
      "874              Abelson, Mrs. Samuel (Hannah Wizosky)        C       2\n"
     ]
    }
   ],
   "source": [
    "embarked_c_class2 = df[(df['Embarked'] == 'C') & (df['Pclass'] == 2)]\n",
    "print(embarked_c_class2[['Name', 'Embarked', 'Pclass']])\n"
   ]
  },
  {
   "cell_type": "code",
   "execution_count": 28,
   "id": "ad33beae",
   "metadata": {},
   "outputs": [
    {
     "name": "stdout",
     "output_type": "stream",
     "text": [
      "                                                  Name  SibSp\n",
      "7                       Palsson, Master. Gosta Leonard      3\n",
      "16                                Rice, Master. Eugene      4\n",
      "24                       Palsson, Miss. Torborg Danira      3\n",
      "27                      Fortune, Mr. Charles Alexander      3\n",
      "50                          Panula, Master. Juha Niilo      4\n",
      "59                  Goodwin, Master. William Frederick      5\n",
      "63                               Skoog, Master. Harald      3\n",
      "68                     Andersson, Miss. Erna Alexandra      4\n",
      "71                          Goodwin, Miss. Lillian Amy      5\n",
      "85   Backstrom, Mrs. Karl Alfred (Maria Mathilda Gu...      3\n",
      "88                          Fortune, Miss. Mabel Helen      3\n",
      "119                  Andersson, Miss. Ellis Anna Maria      4\n",
      "159                         Sage, Master. Thomas Henry      8\n",
      "164                       Panula, Master. Eino Viljami      4\n",
      "171                               Rice, Master. Arthur      4\n",
      "176                      Lefebre, Master. Henry Forbes      3\n",
      "180                       Sage, Miss. Constance Gladys      8\n",
      "182              Asplund, Master. Clarence Gustaf Hugo      4\n",
      "201                                Sage, Mr. Frederick      8\n",
      "229                            Lefebre, Miss. Mathilde      3\n",
      "233                     Asplund, Miss. Lillian Gertrud      4\n",
      "261                  Asplund, Master. Edvin Rojj Felix      4\n",
      "266                          Panula, Mr. Ernesti Arvid      4\n",
      "278                                 Rice, Master. Eric      4\n",
      "324                           Sage, Mr. George John Jr      8\n",
      "341                     Fortune, Miss. Alice Elizabeth      3\n",
      "374                         Palsson, Miss. Stina Viola      3\n",
      "386                    Goodwin, Master. Sidney Leonard      5\n",
      "409                                 Lefebre, Miss. Ida      3\n",
      "480                     Goodwin, Master. Harold Victor      5\n",
      "485                             Lefebre, Miss. Jeannie      3\n",
      "541               Andersson, Miss. Ingeborg Constanzia      4\n",
      "542                  Andersson, Miss. Sigrid Elisabeth      4\n",
      "634                                 Skoog, Miss. Mabel      3\n",
      "642                      Skoog, Miss. Margit Elizabeth      3\n",
      "683                        Goodwin, Mr. Charles Edward      5\n",
      "686                           Panula, Mr. Jaako Arnold      4\n",
      "726        Renouf, Mrs. Peter Henry (Lillian Jefferys)      3\n",
      "787                          Rice, Master. George Hugh      4\n",
      "792                            Sage, Miss. Stella Anna      8\n",
      "813                 Andersson, Miss. Ebba Iris Alfrida      4\n",
      "819                       Skoog, Master. Karl Thorsten      3\n",
      "824                       Panula, Master. Urho Abraham      4\n",
      "846                           Sage, Mr. Douglas Bullen      8\n",
      "850            Andersson, Master. Sigvard Harald Elias      4\n",
      "863                  Sage, Miss. Dorothy Edith \"Dolly\"      8\n"
     ]
    }
   ],
   "source": [
    "sibsp_gt2 = df[df['SibSp'] > 2]\n",
    "print( sibsp_gt2[['Name', 'SibSp']])"
   ]
  },
  {
   "cell_type": "code",
   "execution_count": 27,
   "id": "1dc495e8",
   "metadata": {},
   "outputs": [
    {
     "name": "stdout",
     "output_type": "stream",
     "text": [
      "                                     Name  SibSp  Parch\n",
      "4                Allen, Mr. William Henry      0      0\n",
      "5                        Moran, Mr. James      0      0\n",
      "6                 McCarthy, Mr. Timothy J      0      0\n",
      "12         Saundercock, Mr. William Henry      0      0\n",
      "14   Vestrom, Miss. Hulda Amanda Adolfina      0      0\n",
      "..                                    ...    ...    ...\n",
      "882          Dahlberg, Miss. Gerda Ulrika      0      0\n",
      "883         Banfield, Mr. Frederick James      0      0\n",
      "884                Sutehall, Mr. Henry Jr      0      0\n",
      "886                 Montvila, Rev. Juozas      0      0\n",
      "890                   Dooley, Mr. Patrick      0      0\n",
      "\n",
      "[374 rows x 3 columns]\n"
     ]
    }
   ],
   "source": [
    "no_family_died = df[(df['SibSp'] == 0) & (df['Parch'] == 0) & (df['Survived'] == 0)]\n",
    "print( no_family_died[['Name', 'SibSp', 'Parch']])"
   ]
  },
  {
   "cell_type": "code",
   "execution_count": 26,
   "id": "c3bb554a",
   "metadata": {},
   "outputs": [
    {
     "name": "stdout",
     "output_type": "stream",
     "text": [
      "\n",
      "Top 5 :\n",
      "                                           Name   Age\n",
      "630       Barkworth, Mr. Algernon Henry Wilson  80.0\n",
      "483                     Turkula, Mrs. (Hedwig)  63.0\n",
      "275          Andrews, Miss. Kornelia Theodosia  63.0\n",
      "570                         Harris, Mr. George  62.0\n",
      "829  Stone, Mrs. George Nelson (Martha Evelyn)  62.0\n"
     ]
    }
   ],
   "source": [
    "oldest_survivors = df[df['Survived'] == 1].sort_values(by='Age', ascending=False).head(5)\n",
    "print(\"\\nTop 5 :\\n\", oldest_survivors[['Name', 'Age']])"
   ]
  },
  {
   "cell_type": "code",
   "execution_count": 24,
   "id": "1bbb9c2a",
   "metadata": {},
   "outputs": [
    {
     "name": "stdout",
     "output_type": "stream",
     "text": [
      "\n",
      "Passengers who paid zero fare:\n",
      "                                  Name  Fare\n",
      "179               Leonard, Mr. Lionel   0.0\n",
      "263             Harrison, Mr. William   0.0\n",
      "271      Tornquist, Mr. William Henry   0.0\n",
      "277       Parkes, Mr. Francis \"Frank\"   0.0\n",
      "302   Johnson, Mr. William Cahoone Jr   0.0\n",
      "413    Cunningham, Mr. Alfred Fleming   0.0\n",
      "466             Campbell, Mr. William   0.0\n",
      "481  Frost, Mr. Anthony Wood \"Archie\"   0.0\n",
      "597               Johnson, Mr. Alfred   0.0\n",
      "633     Parr, Mr. William Henry Marsh   0.0\n",
      "674        Watson, Mr. Ennis Hastings   0.0\n",
      "732              Knight, Mr. Robert J   0.0\n",
      "806            Andrews, Mr. Thomas Jr   0.0\n",
      "815                  Fry, Mr. Richard   0.0\n",
      "822   Reuchlin, Jonkheer. John George   0.0\n"
     ]
    }
   ],
   "source": [
    "zero_fare = df[df['Fare'] == 0]\n",
    "print(\"\\nPassengers who paid zero fare:\\n\", zero_fare[['Name', 'Fare']])"
   ]
  },
  {
   "cell_type": "code",
   "execution_count": 25,
   "id": "3fb22f02",
   "metadata": {},
   "outputs": [
    {
     "name": "stdout",
     "output_type": "stream",
     "text": [
      "\n",
      "Training set size: (712, 12)\n",
      "Testing set size: (179, 12)\n"
     ]
    }
   ],
   "source": [
    "train_set, test_set = train_test_split(df, test_size=0.2, random_state=42)\n",
    "print(\"\\nTraining set size:\", train_set.shape)\n",
    "print(\"Testing set size:\", test_set.shape)"
   ]
  },
  {
   "cell_type": "code",
   "execution_count": null,
   "id": "2e317743",
   "metadata": {},
   "outputs": [],
   "source": []
  }
 ],
 "metadata": {
  "kernelspec": {
   "display_name": "Python 3 (ipykernel)",
   "language": "python",
   "name": "python3"
  },
  "language_info": {
   "codemirror_mode": {
    "name": "ipython",
    "version": 3
   },
   "file_extension": ".py",
   "mimetype": "text/x-python",
   "name": "python",
   "nbconvert_exporter": "python",
   "pygments_lexer": "ipython3",
   "version": "3.9.12"
  }
 },
 "nbformat": 4,
 "nbformat_minor": 5
}
