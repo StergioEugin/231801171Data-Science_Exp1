{
  "nbformat": 4,
  "nbformat_minor": 0,
  "metadata": {
    "colab": {
      "provenance": []
    },
    "kernelspec": {
      "name": "python3",
      "display_name": "Python 3"
    },
    "language_info": {
      "name": "python"
    }
  },
  "cells": [
    {
      "cell_type": "code",
      "execution_count": 1,
      "metadata": {
        "colab": {
          "base_uri": "https://localhost:8080/"
        },
        "id": "LqcuEmu1pkIf",
        "outputId": "3195f03c-699a-4513-d9ef-f83e54c5d425"
      },
      "outputs": [
        {
          "output_type": "stream",
          "name": "stdout",
          "text": [
            "Requirement already satisfied: pandas in /usr/local/lib/python3.12/dist-packages (2.2.2)\n",
            "Requirement already satisfied: numpy in /usr/local/lib/python3.12/dist-packages (2.0.2)\n",
            "Requirement already satisfied: nltk in /usr/local/lib/python3.12/dist-packages (3.9.1)\n",
            "Requirement already satisfied: python-dateutil>=2.8.2 in /usr/local/lib/python3.12/dist-packages (from pandas) (2.9.0.post0)\n",
            "Requirement already satisfied: pytz>=2020.1 in /usr/local/lib/python3.12/dist-packages (from pandas) (2025.2)\n",
            "Requirement already satisfied: tzdata>=2022.7 in /usr/local/lib/python3.12/dist-packages (from pandas) (2025.2)\n",
            "Requirement already satisfied: click in /usr/local/lib/python3.12/dist-packages (from nltk) (8.2.1)\n",
            "Requirement already satisfied: joblib in /usr/local/lib/python3.12/dist-packages (from nltk) (1.5.1)\n",
            "Requirement already satisfied: regex>=2021.8.3 in /usr/local/lib/python3.12/dist-packages (from nltk) (2024.11.6)\n",
            "Requirement already satisfied: tqdm in /usr/local/lib/python3.12/dist-packages (from nltk) (4.67.1)\n",
            "Requirement already satisfied: six>=1.5 in /usr/local/lib/python3.12/dist-packages (from python-dateutil>=2.8.2->pandas) (1.17.0)\n"
          ]
        }
      ],
      "source": [
        "!pip install pandas numpy nltk"
      ]
    },
    {
      "cell_type": "code",
      "source": [
        "import pandas as pd\n",
        "import numpy as np\n",
        "import nltk\n",
        "import string\n"
      ],
      "metadata": {
        "id": "z6AXG8LWqRUY"
      },
      "execution_count": 2,
      "outputs": []
    },
    {
      "cell_type": "code",
      "source": [
        "\n",
        "from nltk.corpus import stopwords\n",
        "from nltk import word_tokenize, pos_tag, ne_chunk"
      ],
      "metadata": {
        "id": "1Xhd8nTJqW2N"
      },
      "execution_count": 17,
      "outputs": []
    },
    {
      "cell_type": "code",
      "source": [
        "\n",
        "df = pd.read_csv(\"Reviews.csv\")\n",
        "reviews = df['Text']\n",
        "reviews = reviews.dropna()\n",
        "reviews = reviews.sample(10000, random_state=42).reset_index(drop=True)\n"
      ],
      "metadata": {
        "id": "EPS0hyfGqcm2"
      },
      "execution_count": 18,
      "outputs": []
    },
    {
      "cell_type": "code",
      "source": [
        "def preprocess_text(text):\n",
        "    text = text.lower()\n",
        "    text = text.translate(str.maketrans('', '', string.punctuation))\n",
        "    return text\n",
        "reviews = reviews.apply(preprocess_text)\n",
        "reviews.head()"
      ],
      "metadata": {
        "colab": {
          "base_uri": "https://localhost:8080/",
          "height": 241
        },
        "id": "aVP6SR4Jqowm",
        "outputId": "8536253a-1f53-4fd0-c594-252ab05c6871"
      },
      "execution_count": 19,
      "outputs": [
        {
          "output_type": "execute_result",
          "data": {
            "text/plain": [
              "0    having tried a couple of other brands of glute...\n",
              "1    my cat loves these treats if ever i cant find ...\n",
              "2    a little less than i expected  it tends to hav...\n",
              "3    first there was frosted miniwheats in original...\n",
              "4    and i want to congratulate the graphic artist ...\n",
              "Name: Text, dtype: object"
            ],
            "text/html": [
              "<div>\n",
              "<style scoped>\n",
              "    .dataframe tbody tr th:only-of-type {\n",
              "        vertical-align: middle;\n",
              "    }\n",
              "\n",
              "    .dataframe tbody tr th {\n",
              "        vertical-align: top;\n",
              "    }\n",
              "\n",
              "    .dataframe thead th {\n",
              "        text-align: right;\n",
              "    }\n",
              "</style>\n",
              "<table border=\"1\" class=\"dataframe\">\n",
              "  <thead>\n",
              "    <tr style=\"text-align: right;\">\n",
              "      <th></th>\n",
              "      <th>Text</th>\n",
              "    </tr>\n",
              "  </thead>\n",
              "  <tbody>\n",
              "    <tr>\n",
              "      <th>0</th>\n",
              "      <td>having tried a couple of other brands of glute...</td>\n",
              "    </tr>\n",
              "    <tr>\n",
              "      <th>1</th>\n",
              "      <td>my cat loves these treats if ever i cant find ...</td>\n",
              "    </tr>\n",
              "    <tr>\n",
              "      <th>2</th>\n",
              "      <td>a little less than i expected  it tends to hav...</td>\n",
              "    </tr>\n",
              "    <tr>\n",
              "      <th>3</th>\n",
              "      <td>first there was frosted miniwheats in original...</td>\n",
              "    </tr>\n",
              "    <tr>\n",
              "      <th>4</th>\n",
              "      <td>and i want to congratulate the graphic artist ...</td>\n",
              "    </tr>\n",
              "  </tbody>\n",
              "</table>\n",
              "</div><br><label><b>dtype:</b> object</label>"
            ]
          },
          "metadata": {},
          "execution_count": 19
        }
      ]
    },
    {
      "cell_type": "code",
      "source": [
        " nltk.download('punkt_tab')\n",
        " stop_words = set(stopwords.words('english'))\n",
        "def tokenize_and_filter(text):\n",
        "    tokens = word_tokenize(text)\n",
        "    tokens = [w for w in tokens if w.isalpha()]\n",
        "    tokens = [w for w in tokens if w not in stop_words]\n",
        "    return tokens\n",
        "reviews_tokens = reviews.apply(tokenize_and_filter)"
      ],
      "metadata": {
        "colab": {
          "base_uri": "https://localhost:8080/"
        },
        "id": "wAx3pm9tqqz1",
        "outputId": "31cb8e73-e27d-4347-cbb8-426cedfd1161"
      },
      "execution_count": 20,
      "outputs": [
        {
          "output_type": "stream",
          "name": "stderr",
          "text": [
            "[nltk_data] Downloading package punkt_tab to /root/nltk_data...\n",
            "[nltk_data]   Package punkt_tab is already up-to-date!\n"
          ]
        }
      ]
    },
    {
      "cell_type": "code",
      "source": [
        "nltk.download('averaged_perceptron_tagger_eng')\n",
        "sample_tokens = reviews_tokens[0]\n",
        "pos_tags = pos_tag(sample_tokens)\n",
        "print(pos_tags[:20])\n"
      ],
      "metadata": {
        "colab": {
          "base_uri": "https://localhost:8080/"
        },
        "id": "DZurM9V-q9vN",
        "outputId": "51f5805f-8aba-4205-daff-c95a1e6d341b"
      },
      "execution_count": 21,
      "outputs": [
        {
          "output_type": "stream",
          "name": "stdout",
          "text": [
            "[('tried', 'JJ'), ('couple', 'NN'), ('brands', 'NNS'), ('glutenfree', 'VBP'), ('sandwich', 'JJ'), ('cookies', 'NNS'), ('best', 'JJS'), ('bunch', 'NN'), ('theyre', 'NN'), ('crunchy', 'NN'), ('true', 'JJ'), ('texture', 'NN'), ('real', 'JJ'), ('cookies', 'NNS'), ('arent', 'VBP'), ('glutenfree', 'JJ'), ('might', 'MD'), ('think', 'VB'), ('filling', 'VBG'), ('makes', 'VBZ')]\n"
          ]
        },
        {
          "output_type": "stream",
          "name": "stderr",
          "text": [
            "[nltk_data] Downloading package averaged_perceptron_tagger_eng to\n",
            "[nltk_data]     /root/nltk_data...\n",
            "[nltk_data]   Package averaged_perceptron_tagger_eng is already up-to-\n",
            "[nltk_data]       date!\n"
          ]
        }
      ]
    },
    {
      "cell_type": "code",
      "source": [
        " nltk.download('maxent_ne_chunker_tab')\n",
        "ner_tree = ne_chunk(pos_tags)\n",
        "print(ner_tree)\n",
        "def extract_named_entities(tokens):\n",
        "    pos_tags = pos_tag(tokens)\n",
        "    chunks = ne_chunk(pos_tags, binary=False)\n",
        "    return chunks\n",
        "her_example = extract_named_entities(reviews_tokens[0])\n",
        "print(ner_example)\n",
        "reviews_tokens[0][:20]"
      ],
      "metadata": {
        "colab": {
          "base_uri": "https://localhost:8080/"
        },
        "id": "5avbnZP8rFdl",
        "outputId": "18d4a9fa-5922-4778-ddfb-522122b363f4"
      },
      "execution_count": 22,
      "outputs": [
        {
          "output_type": "stream",
          "name": "stderr",
          "text": [
            "[nltk_data] Downloading package maxent_ne_chunker_tab to\n",
            "[nltk_data]     /root/nltk_data...\n",
            "[nltk_data]   Package maxent_ne_chunker_tab is already up-to-date!\n"
          ]
        },
        {
          "output_type": "stream",
          "name": "stdout",
          "text": [
            "(S\n",
            "  tried/JJ\n",
            "  couple/NN\n",
            "  brands/NNS\n",
            "  glutenfree/VBP\n",
            "  sandwich/JJ\n",
            "  cookies/NNS\n",
            "  best/JJS\n",
            "  bunch/NN\n",
            "  theyre/NN\n",
            "  crunchy/NN\n",
            "  true/JJ\n",
            "  texture/NN\n",
            "  real/JJ\n",
            "  cookies/NNS\n",
            "  arent/VBP\n",
            "  glutenfree/JJ\n",
            "  might/MD\n",
            "  think/VB\n",
            "  filling/VBG\n",
            "  makes/VBZ\n",
            "  bit/NN\n",
            "  sweet/JJ\n",
            "  means/VBZ\n",
            "  ive/JJ\n",
            "  satisfied/JJ\n",
            "  sweet/JJ\n",
            "  tooth/NN\n",
            "  sooner/RBR\n",
            "  chocolate/JJ\n",
            "  version/NN\n",
            "  glutino/NN\n",
            "  good/JJ\n",
            "  true/JJ\n",
            "  chocolatey/NNS\n",
            "  taste/NN\n",
            "  something/NN\n",
            "  isnt/JJ\n",
            "  glutenfree/JJ\n",
            "  brands/NNS)\n",
            "(S\n",
            "  tried/JJ\n",
            "  couple/NN\n",
            "  brands/NNS\n",
            "  glutenfree/VBP\n",
            "  sandwich/JJ\n",
            "  cookies/NNS\n",
            "  best/JJS\n",
            "  bunch/NN\n",
            "  theyre/NN\n",
            "  crunchy/NN\n",
            "  true/JJ\n",
            "  texture/NN\n",
            "  real/JJ\n",
            "  cookies/NNS\n",
            "  arent/VBP\n",
            "  glutenfree/JJ\n",
            "  might/MD\n",
            "  think/VB\n",
            "  filling/VBG\n",
            "  makes/VBZ\n",
            "  bit/NN\n",
            "  sweet/JJ\n",
            "  means/VBZ\n",
            "  ive/JJ\n",
            "  satisfied/JJ\n",
            "  sweet/JJ\n",
            "  tooth/NN\n",
            "  sooner/RBR\n",
            "  chocolate/JJ\n",
            "  version/NN\n",
            "  glutino/NN\n",
            "  good/JJ\n",
            "  true/JJ\n",
            "  chocolatey/NNS\n",
            "  taste/NN\n",
            "  something/NN\n",
            "  isnt/JJ\n",
            "  glutenfree/JJ\n",
            "  brands/NNS)\n"
          ]
        },
        {
          "output_type": "execute_result",
          "data": {
            "text/plain": [
              "['tried',\n",
              " 'couple',\n",
              " 'brands',\n",
              " 'glutenfree',\n",
              " 'sandwich',\n",
              " 'cookies',\n",
              " 'best',\n",
              " 'bunch',\n",
              " 'theyre',\n",
              " 'crunchy',\n",
              " 'true',\n",
              " 'texture',\n",
              " 'real',\n",
              " 'cookies',\n",
              " 'arent',\n",
              " 'glutenfree',\n",
              " 'might',\n",
              " 'think',\n",
              " 'filling',\n",
              " 'makes']"
            ]
          },
          "metadata": {},
          "execution_count": 22
        }
      ]
    }
  ]
}